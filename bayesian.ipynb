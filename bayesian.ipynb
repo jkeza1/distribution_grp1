{
 "cells": [
  {
   "cell_type": "code",
   "execution_count": 1,
   "metadata": {},
   "outputs": [],
   "source": [
    "import numpy as np"
   ]
  },
  {
   "cell_type": "code",
   "execution_count": 2,
   "metadata": {},
   "outputs": [],
   "source": [
    "def calculate_prob_disease_given_positive(P_A=0.01, P_not_A=0.99, P_B_given_A=0.95, P_B_given_not_A=0.10):\n",
    "    \"\"\"\n",
    "    Calculate the probability of having the disease given a positive test result using Bayes' theorem.\n",
    "    \n",
    "    Parameters:\n",
    "    - P_A: Probability of having the disease.\n",
    "    - P_not_A: Probability of not having the disease.\n",
    "    - P_B_given_A: Probability of testing positive given having the disease.\n",
    "    - P_B_given_not_A: Probability of testing positive given not having the disease.\n",
    "    \n",
    "    Returns:\n",
    "    - P_A_given_B: Probability of having the disease given a positive test result.\n",
    "    \"\"\"\n",
    "    # Calculate the marginal probability of testing positive\n",
    "    P_B = (P_B_given_A * P_A) + (P_B_given_not_A * P_not_A)\n",
    "    \n",
    "    # Apply Bayes' theorem\n",
    "    P_A_given_B = (P_B_given_A * P_A) / P_B\n",
    "    \n",
    "    return P_A_given_B"
   ]
  },
  {
   "cell_type": "code",
   "execution_count": 3,
   "metadata": {},
   "outputs": [
    {
     "name": "stdout",
     "output_type": "stream",
     "text": [
      "0.08755760368663594\n"
     ]
    }
   ],
   "source": [
    "result = calculate_prob_disease_given_positive()\n",
    "print(result)"
   ]
  },
  {
   "cell_type": "markdown",
   "metadata": {},
   "source": [
    "Explanation of Bayesian Inference in Medical Diagnosis\n",
    "Prior Probability (𝑃(A))\n",
    "\n",
    "P(A): Represents the general population's chance of having the disease. If the disease is rare, this is a small number.\n",
    "\n",
    "Likelihood (𝑃(B|A))\n",
    "P(B∣A): Shows how effective the test is at detecting the disease.\n",
    "False Positive Rate (𝑃(B|¬A))\n",
    "\n",
    "P(B∣¬A): Represents the test's chance of wrongly diagnosing a healthy person.\n",
    "Posterior Probability (𝑃(A|B))\n",
    "P(A∣B): The most important result! It tells us how likely a patient actually has the disease after testing positive.\n",
    "\n",
    "1.Prior Probability (P(A)) → Probability of having the disease before testing → 1% (0.01)\n",
    "\n",
    "2.Likelihood (P(B|A)) → Probability of testing positive if diseased → 95% (0.95)\n",
    "\n",
    "3.False Positive Rate (P(B|¬A)) → Probability of testing positive if healthy → 10% (0.10)\n",
    "\n",
    "4.Complementary Probability (P(¬A)) → Probability of NOT having the disease → 99% (0.99)\n",
    "The total probability of testing positive:\n",
    "\n",
    " True Positives: Diseased people correctly testing positive\n",
    " False Positives: Healthy people incorrectly testing positive\n",
    "P(B)=P(B∣A)P(A)+P(B∣¬A)P(¬A)\n",
    "\n",
    "Practical Significance\n",
    "\n",
    "A low posterior probability despite a positive test means we shouldn't panic over a single test result. Additional tests might be needed.\n",
    "Bayesian inference helps doctors avoid unnecessary treatments for false positives.\n",
    "This approach is widely used in COVID-19, cancer screening, and genetic testing.\n",
    "\n",
    "Takeaway: Bayesian inference updates beliefs dynamically and helps make better decisions in uncertain situations!"
   ]
  },
  {
   "cell_type": "markdown",
   "metadata": {},
   "source": []
  }
 ],
 "metadata": {
  "kernelspec": {
   "display_name": "Python 3",
   "language": "python",
   "name": "python3"
  },
  "language_info": {
   "codemirror_mode": {
    "name": "ipython",
    "version": 3
   },
   "file_extension": ".py",
   "mimetype": "text/x-python",
   "name": "python",
   "nbconvert_exporter": "python",
   "pygments_lexer": "ipython3",
   "version": "3.12.2"
  }
 },
 "nbformat": 4,
 "nbformat_minor": 2
}
