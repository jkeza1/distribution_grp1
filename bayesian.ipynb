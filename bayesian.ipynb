{
 "cells": [
  {
   "cell_type": "code",
   "execution_count": 3,
   "metadata": {},
   "outputs": [],
   "source": [
    "import numpy as np"
   ]
  },
  {
   "cell_type": "code",
   "execution_count": 4,
   "metadata": {},
   "outputs": [],
   "source": [
    "P_A = 0.01 # probability of having the disease\n",
    "P_not_A = 0.99 # probability of not having the disease\n",
    "P_B_given_A = 0.95 # probability of testing positive given that you have the disease\n",
    "P_B_given_not_A = 0.10 # probability of testing positive given that you don't"
   ]
  },
  {
   "cell_type": "code",
   "execution_count": 5,
   "metadata": {},
   "outputs": [
    {
     "name": "stdout",
     "output_type": "stream",
     "text": [
      "0.08755760368663594\n"
     ]
    }
   ],
   "source": [
    "P_B = (P_B_given_A*P_A) + (P_B_given_not_A*P_not_A) # Marginal probability of testing positive\n",
    "P_A_given_B = (P_B_given_A*P_A) /P_B # Bayes' theorem\n",
    "\n",
    "print(P_A_given_B)"
   ]
  },
  {
   "cell_type": "markdown",
   "metadata": {},
   "source": [
    "Explanation of Bayesian Inference in Medical Diagnosis\n",
    "Prior Probability (\n",
    "𝑃(A)\n",
    "P(A)): Represents the general population's chance of having the disease. If the disease is rare, this is a small number.\n",
    "Likelihood (\n",
    "𝑃(B|A)\n",
    "P(B∣A)): Shows how effective the test is at detecting the disease.\n",
    "False Positive Rate (\n",
    "𝑃(B|¬A)\n",
    "P(B∣¬A)): Represents the test's chance of wrongly diagnosing a healthy person.\n",
    "Posterior Probability (\n",
    "𝑃(A|B)\n",
    "P(A∣B)): The most important result! It tells us how likely a patient actually has the disease after testing positive.\n",
    "Practical Significance\n",
    "A low posterior probability despite a positive test means we shouldn't panic over a single test result. Additional tests might be needed.\n",
    "Bayesian inference helps doctors avoid unnecessary treatments for false positives.\n",
    "This approach is widely used in COVID-19, cancer screening, and genetic testing."
   ]
  },
  {
   "cell_type": "markdown",
   "metadata": {},
   "source": []
  }
 ],
 "metadata": {
  "kernelspec": {
   "display_name": "Python 3",
   "language": "python",
   "name": "python3"
  },
  "language_info": {
   "codemirror_mode": {
    "name": "ipython",
    "version": 3
   },
   "file_extension": ".py",
   "mimetype": "text/x-python",
   "name": "python",
   "nbconvert_exporter": "python",
   "pygments_lexer": "ipython3",
   "version": "3.11.4"
  }
 },
 "nbformat": 4,
 "nbformat_minor": 2
}
