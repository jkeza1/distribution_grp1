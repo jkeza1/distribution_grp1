{
  "cells": [
    {
      "cell_type": "markdown",
      "metadata": {
        "id": "view-in-github",
        "colab_type": "text"
      },
      "source": [
        "<a href=\"https://colab.research.google.com/github/jkeza1/distribution_grp1/blob/main/Gradient_Descent.ipynb\" target=\"_parent\"><img src=\"https://colab.research.google.com/assets/colab-badge.svg\" alt=\"Open In Colab\"/></a>"
      ]
    },
    {
      "cell_type": "markdown",
      "source": [
        "Gradient Descent using the https://alueducation.instructure.com/courses/1791/assignments/26459 assignment"
      ],
      "metadata": {
        "id": "F_L1UumEXGlO"
      }
    },
    {
      "cell_type": "code",
      "source": [
        "import numpy as np\n",
        "from scipy.optimize import minimize"
      ],
      "metadata": {
        "id": "N0ZVh_OtXQuF"
      },
      "execution_count": null,
      "outputs": []
    },
    {
      "cell_type": "markdown",
      "source": [
        "Using scipy to compute Gradient Descent. Using numpy only first to understand how scipy works."
      ],
      "metadata": {
        "id": "WtOjh3s7Z0kw"
      }
    },
    {
      "cell_type": "code",
      "source": [
        "#initial data points\n",
        "X = np.array([1, 3])\n",
        "y = np.array([3, 6])\n",
        "\n",
        "# Initialize parameters\n",
        "m = -1.0\n",
        "b = 1.0\n",
        "alpha = 0.1\n",
        "max_iters = 1000\n",
        "tolerance = 1e-6"
      ],
      "metadata": {
        "id": "W9R55TCja55f"
      },
      "execution_count": null,
      "outputs": []
    },
    {
      "cell_type": "markdown",
      "source": [
        "Initializing the list to store the values for visualization"
      ],
      "metadata": {
        "id": "yFgA6bISblWD"
      }
    },
    {
      "cell_type": "code",
      "source": [
        "m_vals = []\n",
        "b_vals = []\n",
        "cost_vals =[]"
      ],
      "metadata": {
        "id": "u24Fwlvzbs5m"
      },
      "execution_count": null,
      "outputs": []
    },
    {
      "cell_type": "markdown",
      "source": [
        "Computing the cost function to find the Mean Square Error."
      ],
      "metadata": {
        "id": "aQc5r5C_b2vy"
      }
    },
    {
      "cell_type": "code",
      "source": [
        "def cost_function(m, b):\n",
        "  y_pred = m*X + b\n",
        "  mse = np.mean((y_pred - y)**2)\n",
        "  return mse"
      ],
      "metadata": {
        "id": "Fu5oz8GZcAlV"
      },
      "execution_count": null,
      "outputs": []
    },
    {
      "cell_type": "markdown",
      "source": [
        "Computing the gradients"
      ],
      "metadata": {
        "id": "3Y865Ht5eECO"
      }
    },
    {
      "cell_type": "code",
      "source": [
        "def gradients(m, b):\n",
        "  y_pred = m*X + b\n",
        "  n = len(X)\n",
        "  dJ_dm = -2/n * np.sum((y_pred - y)* X)\n",
        "  dJ_db = -2/n * np.sum((y - y_pred))\n",
        "  return dJ_dm, dJ_db"
      ],
      "metadata": {
        "id": "zLP1Z3bpeIpS"
      },
      "execution_count": null,
      "outputs": []
    },
    {
      "cell_type": "markdown",
      "source": [
        "Gradient Descent Loop"
      ],
      "metadata": {
        "id": "CBn_WVZqfECX"
      }
    },
    {
      "cell_type": "code",
      "source": [
        "prev_cost = cost_function(m, b)"
      ],
      "metadata": {
        "id": "HFt82U9efHx3"
      },
      "execution_count": null,
      "outputs": []
    },
    {
      "cell_type": "markdown",
      "source": [
        "For loop for the iterations when computing. The values of the parameters with the current learning rate were diverging greatly even with changes to tolerance and the number of iterations leading to an overflow error. The other two computation methods work seamlessly, I just utilized this to understand how it works."
      ],
      "metadata": {
        "id": "WRzmZoikfPi-"
      }
    },
    {
      "cell_type": "code",
      "source": [
        "\"\"\"for i in range(max_iters):\n",
        "    dJ_dm, dJ_db = gradients(m, b)  # Compute gradients\n",
        "    m -= alpha * dJ_dm  # Update slope\n",
        "    b -= alpha * dJ_db  # Update intercept\n",
        "\n",
        "    # Store values for visualization\n",
        "    m_vals.append(m)\n",
        "    b_vals.append(b)\n",
        "    cost = cost_function(m, b)\n",
        "    cost_vals.append(cost)\n",
        "\n",
        "    # Check for convergence\n",
        "    if abs(prev_cost - cost) < tolerance:\n",
        "        print(f\"Converged at iteration {i+1}\")\n",
        "        break\n",
        "    prev_cost = cost\n",
        "\n",
        "print(f\"Final values: m = {m:.4f}, b = {b:.4f}\")\"\"\""
      ],
      "metadata": {
        "colab": {
          "base_uri": "https://localhost:8080/"
        },
        "id": "NBqqTolrfdKT",
        "outputId": "fa624266-0842-4850-bcb6-84527419d736"
      },
      "execution_count": null,
      "outputs": [
        {
          "output_type": "stream",
          "name": "stdout",
          "text": [
            "Final values: m = -1.2816, b = 1.1144\n"
          ]
        }
      ]
    },
    {
      "cell_type": "markdown",
      "source": [
        "Plotting the iterations to understand convergence"
      ],
      "metadata": {
        "id": "rmivIpibgJjg"
      }
    },
    {
      "cell_type": "code",
      "source": [
        "\"\"\"plt.figure(figsize=(12, 5))\n",
        "\n",
        "# Plot m updates\n",
        "plt.subplot(1, 2, 1)\n",
        "plt.plot(m_vals, label=\"m values\")\n",
        "plt.xlabel(\"Iteration\")\n",
        "plt.ylabel(\"m\")\n",
        "plt.title(\"Change in m over iterations\")\n",
        "plt.legend()\n",
        "\n",
        "# Plot b updates\n",
        "plt.subplot(1, 2, 2)\n",
        "plt.plot(b_vals, label=\"b values\", color='m')\n",
        "plt.xlabel(\"Iteration\")\n",
        "plt.ylabel(\"b\")\n",
        "plt.title(\"Change in b over iterations\")\n",
        "plt.legend()\n",
        "\n",
        "plt.show()\"\"\""
      ],
      "metadata": {
        "colab": {
          "base_uri": "https://localhost:8080/",
          "height": 90
        },
        "id": "tc890c0ygSEB",
        "outputId": "bb9cc9cf-f7cf-4f91-9a0f-78d816d16504"
      },
      "execution_count": null,
      "outputs": [
        {
          "output_type": "execute_result",
          "data": {
            "text/plain": [
              "'plt.figure(figsize=(12, 5))\\n\\n# Plot m updates\\nplt.subplot(1, 2, 1)\\nplt.plot(m_vals, label=\"m values\")\\nplt.xlabel(\"Iteration\")\\nplt.ylabel(\"m\")\\nplt.title(\"Change in m over iterations\")\\nplt.legend()\\n\\n# Plot b updates\\nplt.subplot(1, 2, 2)\\nplt.plot(b_vals, label=\"b values\", color=\\'m\\')\\nplt.xlabel(\"Iteration\")\\nplt.ylabel(\"b\")\\nplt.title(\"Change in b over iterations\")\\nplt.legend()\\n\\nplt.show()'"
            ],
            "application/vnd.google.colaboratory.intrinsic+json": {
              "type": "string"
            }
          },
          "metadata": {},
          "execution_count": 144
        }
      ]
    },
    {
      "cell_type": "markdown",
      "source": [
        "Now to use Scipy to solve the same problem.In linear regression, the goal is to find the values of the model parameters (e.g. the coefficients of the features) that minimize the mean squared error (MSE) between the predicted values and the true values.The gradient is a vector that points in the direction of the steepest increase in the cost function. In gradient descent, the parameters are updated in the direction of the negative gradient, which is the direction of steepest decrease in the cost function."
      ],
      "metadata": {
        "id": "-ztzf2u4iIYa"
      }
    },
    {
      "cell_type": "code",
      "source": [
        "import numpy as np\n",
        "import matplotlib.pyplot as plt\n",
        "from scipy.optimize import minimize\n",
        "\n",
        "# Given data points\n",
        "X = np.array([1, 3])\n",
        "y = np.array([3, 6])\n",
        "\n",
        "# Initialize parameters\n",
        "initial_m = -1.0\n",
        "initial_b = 1.0\n",
        "\n",
        "# Define cost function (Mean Squared Error)\n",
        "def cost_function(params):\n",
        "    m, b = params\n",
        "    y_pred = m * X + b\n",
        "    mse = np.mean((y - y_pred) ** 2)\n",
        "    return mse\n",
        "\n",
        "# Compute gradients (partial derivatives)\n",
        "def compute_gradients(params):\n",
        "    m, b = params\n",
        "    y_pred = m * X + b\n",
        "    n = len(X)\n",
        "    dJ_dm = -2/n * np.sum((y - y_pred) * X)\n",
        "    dJ_db = -2/n * np.sum(y - y_pred)\n",
        "    return np.array([dJ_dm, dJ_db])\n",
        "\n",
        "# Store history for visualization\n",
        "m_history = []\n",
        "b_history = []\n",
        "cost_history = []\n",
        "\n",
        "# Custom callback function to track optimization progress\n",
        "def callback(params):\n",
        "    m_history.append(params[0])\n",
        "    b_history.append(params[1])\n",
        "    cost_history.append(cost_function(params))\n",
        "\n",
        "# Use SciPy's minimize function\n",
        "result = minimize(\n",
        "    fun=cost_function,\n",
        "    x0=[initial_m, initial_b],\n",
        "    method='BFGS',\n",
        "    jac=compute_gradients,\n",
        "    callback=callback\n",
        ")\n",
        "\n",
        "# Final optimized parameters\n",
        "optimized_m, optimized_b = result.x\n",
        "print(f\"Final optimized values: m = {optimized_m:.4f}, b = {optimized_b:.4f}\")\n",
        "print(f\"Final cost: {cost_function(result.x):.6f}\")\n",
        "\n",
        "# Plot optimization progress\n",
        "plt.figure(figsize=(12, 5))\n",
        "\n",
        "# Plot m updates\n",
        "plt.subplot(1, 2, 1)\n",
        "plt.plot(m_history, label=\"m values\")\n",
        "plt.xlabel(\"Iteration\")\n",
        "plt.ylabel(\"m\")\n",
        "plt.title(\"Change in m over iterations\")\n",
        "plt.legend()\n",
        "\n",
        "# Plot b updates\n",
        "plt.subplot(1, 2, 2)\n",
        "plt.plot(b_history, label=\"b values\", color='r')\n",
        "plt.xlabel(\"Iteration\")\n",
        "plt.ylabel(\"b\")\n",
        "plt.title(\"Change in b over iterations\")\n",
        "plt.legend()\n",
        "\n",
        "plt.show()\n"
      ],
      "metadata": {
        "colab": {
          "base_uri": "https://localhost:8080/",
          "height": 454
        },
        "id": "qBDDd2VZjBZ0",
        "outputId": "0c6946f6-fd58-4ceb-e33b-cbc4c1a05a2e"
      },
      "execution_count": null,
      "outputs": [
        {
          "output_type": "stream",
          "name": "stdout",
          "text": [
            "Final optimized values: m = 1.5000, b = 1.5000\n",
            "Final cost: 0.000000\n"
          ]
        },
        {
          "output_type": "display_data",
          "data": {
            "text/plain": [
              "<Figure size 1200x500 with 2 Axes>"
            ],
            "image/png": "[encoded data removed]"
          },
          "metadata": {}
        }
      ]
    },
    {
      "cell_type": "markdown",
      "source": [
        "Confirmation of the coefficients using statsmodel"
      ],
      "metadata": {
        "id": "VAE0TblmohL6"
      }
    },
    {
      "cell_type": "code",
      "source": [
        "import statsmodels.api as sm\n",
        "X_bias = np.c_[np.ones(len(X)), X]\n",
        "ols_model = sm.OLS(y, X_bias).fit()\n",
        "print(\"\\nOLS Coefficients:\")\n",
        "print(ols_model.params)"
      ],
      "metadata": {
        "colab": {
          "base_uri": "https://localhost:8080/"
        },
        "id": "6ZF4R9L_oklq",
        "outputId": "b6e6de5f-0f92-43d5-90a3-c99a6b2afbeb"
      },
      "execution_count": null,
      "outputs": [
        {
          "output_type": "stream",
          "name": "stdout",
          "text": [
            "\n",
            "OLS Coefficients:\n",
            "[1.5 1.5]\n"
          ]
        }
      ]
    },
    {
      "cell_type": "markdown",
      "source": [
        "## Insights\n",
        "I tried using a for loop initially to understand the computation of the gradient descent and visualize the variation in the parameters after the subsequent iterations. It took me down a rabbit hole to understand convergence and divergence. I tried the various solutions offered when the values of m and b are so large that an overflow error occurs. It included reducing the learning rate which allowed it to get close to the 1.5 value computed by the ols and scipy as a fixed learning rate makes the for loop diverge. From my research, scipy is encouraged because it is a more stabilized optimization technique. Scipy adjusts the learning rate automatically preventing overshooting or a too slow convergence. Scipy also utilizes better algorithms such as the BFGS to compute- it is more stable. It also incorporates momentum like Adam and RMS Prop, in its computations. Momentum is a technique that smooths out updates in gradient descent by incorporating previous gradients into the current update. This prevents oscillations and improves convergence, especially in cases where gradients vary significantly which ties to the visualization in this notebook significantly as there were sharp changes in gradient.\n"
      ],
      "metadata": {
        "id": "fzZiFhW_6FFG"
      }
    }
  ],
  "metadata": {
    "kernelspec": {
      "display_name": "Python 3",
      "language": "python",
      "name": "python3"
    },
    "language_info": {
      "codemirror_mode": {
        "name": "ipython",
        "version": 3
      },
      "file_extension": ".py",
      "mimetype": "text/x-python",
      "name": "python",
      "nbconvert_exporter": "python",
      "pygments_lexer": "ipython3",
      "version": "3.12.2"
    },
    "colab": {
      "provenance": [],
      "include_colab_link": true
    }
  },
  "nbformat": 4,
  "nbformat_minor": 0
}